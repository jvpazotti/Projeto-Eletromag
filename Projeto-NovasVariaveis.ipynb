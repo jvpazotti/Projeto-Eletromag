{
 "cells": [
  {
   "cell_type": "markdown",
   "metadata": {},
   "source": [
    "# Eletromagnetismo e Ondulatória - Projeto Final\n",
    "___\n",
    "##  Simulações numéricas essenciais para transmissão de energia sem fio (WPT)\n",
    "\n",
    "### Integrantes \n",
    " - João Vitor Pazotti\n",
    " - Pedro Mahfuz\n",
    " - Thomas Cavalcanti Chabro\n",
    "\n",
    "## Objetivos \n",
    "Essa etapa do projeto visa simular computacionalmente o circuito elétrico a ser utilizado no projeto para encontrar os valores ótimos de montagem. Para tanto, dividiu-se essa parte do projeto em 5 outras:"
   ]
  },
  {
   "cell_type": "markdown",
   "metadata": {},
   "source": [
    "## Índice\n",
    "\n",
    "- [Parte 1 - Elaboração do diagrama do modelo eletrodinâmico do circuito WPT](#1)\n",
    "- [Parte 2 - Código do Módulo Numérico](#2)\n",
    "- [Parte 3 - Construção de gráficos de I1 e I2 em função da frequência](#3)\n",
    "- [Parte 4 - Construção de gráficos das potências e da eficiência em função da frequência](#4)\n",
    "- [Parte 5 - Construção de um gráfico que relacione o valor de pico da tensão no secundário (no resistor 𝑅𝐶) com o coeficiente de acoplamento $k$](#5)\n",
    "- [Conclusão e Validação do Modelo](#conclusao)\n",
    "- [Aumentando a tensão de alimentação do primário](#fim)\n",
    "___"
   ]
  },
  {
   "cell_type": "markdown",
   "metadata": {},
   "source": [
    "<div id=\"1\"></div>\n",
    "\n",
    "## Parte 1 - Elaboração do diagrama do modelo eletrodinâmico do circuito WPT (id=1)\n",
    "O circuito a ser utilizado foi cedido pelos professores e seu diagrama eletrodinâmico está exposto na Imagem 1, abaixo.\n",
    "<img src=\"circuito_vazio.png\" style=\"padding: 20px\">\n",
    "<center>Imagem 1: Circuito do Projeto, montado no Ciruit Lab</center><br>\n",
    "Observa-se que o circuito se assemelha muito ao modelo de transformador elétrico apresentado em aula, exceto por capacitores no primário e no secundário. Esses componentes são utilizados nos dois circuitos com o mesmo propósito: maximizar a corrente através de uma corrente ressonante.<br>\n",
    "Para ilustrar esse conceito, pode-se utilizar um circuito RLC ordinário, como na Imagem 2:\n",
    "<img src=\"circuito_RLC.jpg\" style=\"padding: 20px\">\n",
    "<center>Imagem 2: Circuito RLC ordinário, montado no Ciruit Lab</center><br>\n",
    "Equacionando esse circuito, temos a seguinte equação:\n",
    "\n",
    "<center style=\"padding: 20px\"><h2>\n",
    "$ \\frac{\\hat{U}_f}{R+j \\omega L +\\frac{1}{j \\omega C}} = \\hat{I} $\n",
    "</h2></center>\n",
    "\n",
    "Para esse circuito, a corrente máxima acontece quando *$j\\omega L = - \\frac{1}{j \\omega C}$*, já que dessa forma as impedâncias do capacitor e do indutor se cancelam<br>\n",
    "Fazendo manipulações algébricas, pode-se provar que a frequência angular de ressonância é dada por:\n",
    "<center style=\"padding: 20px\"><h2>\n",
    "$\\omega_{res} = \\frac{1}{\\sqrt{LC}}$\n",
    "</h2></center>\n",
    "\n",
    "Através de manipulação algébrica, descobre-se a frequência de ressonância de um sistema RLC\n",
    "<center style=\"padding: 20px\"><h2>\n",
    "$f_{res} = \\frac{1}{2\\pi\\sqrt{LC}}$\n",
    "</h2></center>\n",
    "\n",
    "___"
   ]
  },
  {
   "cell_type": "markdown",
   "metadata": {},
   "source": [
    "<div id=\"2\"></div>\n",
    "\n",
    "# Parte 2 - Código do Módulo Numérico"
   ]
  },
  {
   "cell_type": "markdown",
   "metadata": {},
   "source": [
    "### Descrição\n",
    "Essa parte foca na escrita de um código em Python que simula o modelo esquematizado anteriormente. Os valores utilizados já estão de acordo com os valores utilizados no sistema real, exceto o valor do coeficiente de acoplamento, escolhido arbritariamente em um primeiro momento (depois serão feitas simulações variando esse fator)"
   ]
  },
  {
   "cell_type": "markdown",
   "metadata": {},
   "source": [
    "Imports dos módulos"
   ]
  },
  {
   "cell_type": "code",
   "execution_count": 30,
   "metadata": {},
   "outputs": [],
   "source": [
    "from cmath import *\n",
    "from numpy import linalg\n",
    "import numpy as np\n",
    "import matplotlib.pyplot as plt"
   ]
  },
  {
   "cell_type": "markdown",
   "metadata": {},
   "source": [
    "Variáveis do Transformador"
   ]
  },
  {
   "cell_type": "code",
   "execution_count": 31,
   "metadata": {},
   "outputs": [],
   "source": [
    "# Parâmetro medidos da bobina real\n",
    "R1 = 0.945 + 2.7\n",
    "R2 = 0.957 + 2.7 \n",
    "# Para as Resistências, adicionamos mais 2.7 ohm por conta da resistência dos cabos utilizados\n",
    "L1 = 261.9e-6\n",
    "L2 =  266.5e-6\n",
    "\n",
    "# Parâmetro k escolhido para análise inicial\n",
    "k = 0.1"
   ]
  },
  {
   "cell_type": "markdown",
   "metadata": {},
   "source": [
    "### Escolhendo um capacitor\n",
    "\n",
    "Escolheu-se uma bobina com $300 \\mu H$, portanto sobra escolher um capacitor e uma respectiva frequência de ressonância para análise. Os capacitores disponíveis no laboratório possuiam as seguintes valores de capacitância:\n"
   ]
  },
  {
   "cell_type": "code",
   "execution_count": 32,
   "metadata": {},
   "outputs": [],
   "source": [
    "cap = [0.1e-6, 150e-9, 1e-6, 4.7e-6, 0.47e-6]"
   ]
  },
  {
   "cell_type": "markdown",
   "metadata": {},
   "source": [
    "A partir desses valores, pode-se calcular a frequência de ressonância para cada capacitor (segundo nosso valor delimitado de bobina)"
   ]
  },
  {
   "cell_type": "code",
   "execution_count": 33,
   "metadata": {},
   "outputs": [
    {
     "name": "stdout",
     "output_type": "stream",
     "text": [
      "Para o capacitor de 1e-07F, fres = 31099.42664965948\n",
      "Para o capacitor de 1.5e-07F, fres = 25392.575528259567\n",
      "Para o capacitor de 1e-06F, fres = 9834.502213826334\n",
      "Para o capacitor de 4.7e-06F, fres = 4536.317603841976\n",
      "Para o capacitor de 4.7e-07F, fres = 14345.095818058033\n"
     ]
    }
   ],
   "source": [
    "for C in cap:\n",
    "    f = 1/(2*pi*sqrt(L1*C))\n",
    "    print(f'Para o capacitor de {C}F, fres = {f.real}')"
   ]
  },
  {
   "cell_type": "markdown",
   "metadata": {},
   "source": [
    "Devido a problemas de interferência, o circuito primário apresentou se estabilizar somente com frequencias acima de $25kHz $. Portanto, elegeu-se o capacitor de $0.1 \\mu F$ para a montagem, utilizando uma frequência de $31.099Hz$"
   ]
  },
  {
   "cell_type": "code",
   "execution_count": 34,
   "metadata": {},
   "outputs": [],
   "source": [
    "C1 = 0.1e-6\n",
    "C2 = 0.1e-6\n",
    "\n",
    "# Carga utilizada para análise\n",
    "Rc = 330\n",
    "\n",
    "# Frequência de ressonância, segundo equações apresentadas anteriormente\n",
    "w = 1/sqrt(L1*C1)\n",
    "f = 1/(2*pi*sqrt(L1*C1))\n",
    "\n",
    "# Cálculo de impedâncias\n",
    "XL1 = 1j*w*L1\n",
    "XL2 = 1j*w*L2\n",
    "XC1 =1 /(1j*w*C1)\n",
    "XC2 =1 /(1j*w*C2)\n",
    "M = k*sqrt(L1*L2)\n",
    "XM = 1j*w*M"
   ]
  },
  {
   "cell_type": "markdown",
   "metadata": {},
   "source": [
    "Funções que modelam o comportamento do circuito"
   ]
  },
  {
   "cell_type": "code",
   "execution_count": 35,
   "metadata": {},
   "outputs": [],
   "source": [
    "def CalcularTransformador(V1, Rc):\n",
    "    \"\"\"\n",
    "    Calcula as correntes do circuito a partir dos parâmetros no primário e no secundário\n",
    "    Função desenvolvida a partir de um código cedido pelos professores para cálculo de\n",
    "    corrente em um transformador, mas adaptado para o novo circuito\n",
    "\n",
    "    Parâmetros:\n",
    "     - V1: Tensão de alimentação do primário\n",
    "     - Rc: Resistência da Carga\n",
    "    \"\"\"\n",
    "    Z=np.array([[R1+XL1+XC1, -XM],[-XM, XL2+R2+((Rc*XC2)/(Rc+XC2))]])\n",
    "    V=np.array([V1,0])\n",
    "    I=np.dot(linalg.inv(Z),V)\n",
    "    return I[0], I[1]"
   ]
  },
  {
   "cell_type": "code",
   "execution_count": 36,
   "metadata": {},
   "outputs": [],
   "source": [
    "def S(V:complex, I:complex):\n",
    "    \"\"\"\n",
    "    Calcula a potência total S do componente/sistema\n",
    "\n",
    "    Parâmetros:\n",
    "     - V: Tensão que passa no componente/sistema\n",
    "     - I: Corrente que passa no componente/sistema\n",
    "     - Z: Impedância local\n",
    "    \"\"\"\n",
    "\n",
    "    Vpico = abs(V)\n",
    "    Ipico = abs(I)\n",
    "    Veficaz = Vpico/sqrt(2)\n",
    "    Ieficaz = I/sqrt(2)\n",
    "    Ief_conj = Ieficaz.conjugate()\n",
    "\n",
    "    S = Veficaz*Ief_conj\n",
    "\n",
    "    return S"
   ]
  },
  {
   "cell_type": "markdown",
   "metadata": {},
   "source": [
    "### Alimentação no Primário\n",
    "O gerador de sinais não tem potência suficiente para alimentar o circuito primário, por isso foi necessário trabalhar com um circuito denominado \"meia-ponte\", esquematizado à seguir:\n",
    "<img src=\"circuito_alimentacao.png\">\n",
    "Esse circuito fornece uma onda quadrada, com sinal descrito por:<br>\n",
    "<center>\n",
    "<h3>\n",
    "$U_f(t)=\\frac{2}{{\\pi}}.V_p.cos({\\omega}t)$\n",
    "    </h3>\n",
    "</center>"
   ]
  },
  {
   "cell_type": "code",
   "execution_count": 37,
   "metadata": {},
   "outputs": [],
   "source": [
    "# Tensão de alimentação a partir do PWM\n",
    "Uf = 2/pi*5"
   ]
  },
  {
   "cell_type": "code",
   "execution_count": 38,
   "metadata": {
    "scrolled": true
   },
   "outputs": [
    {
     "name": "stdout",
     "output_type": "stream",
     "text": [
      "VALORES CALCULADOS PARA UM COEFICIENTE DE ACOPLAMENTO DE 0.1\n",
      "------------------------------------------------------------\n",
      "Corrente no primario (i1)          --> 0.53775 A\n",
      "Corrente no secundário (i2)        --> 0.23934 A\n",
      "Tensão no secundário (V2)          --> 12.10383 V\n",
      "Potência eficaz (S2ef)             --> 0.16154 W\n",
      "Frequência de ressonância (f)      --> 31099.42665 Hz\n"
     ]
    }
   ],
   "source": [
    "# Tensão de alimentação a partir do PWM\n",
    "Rc = 330\n",
    "\n",
    "#A função calcula as duas correntes\n",
    "i1, i2 = CalcularTransformador(Uf, Rc)\n",
    "\n",
    "#Com as correntes, é possível calcular o V2 \n",
    "V2 = ((XC2*Rc)/(XC2+Rc)) * i2\n",
    "\n",
    "#Potência \n",
    "S2=S(V2,i2)\n",
    "\n",
    "print('VALORES CALCULADOS PARA UM COEFICIENTE DE ACOPLAMENTO DE 0.1')\n",
    "print('---'*20)\n",
    "print(\"Corrente no primario (i1)          --> {0:.5f} A\".format(abs(i1)))\n",
    "print(\"Corrente no secundário (i2)        --> {0:.5f} A\".format(abs(i2)))\n",
    "print(\"Tensão no secundário (V2)          --> {0:.5f} V\".format(abs(V2)))\n",
    "print(\"Potência eficaz (S2ef)             --> {0:.5f} W\".format(S2.real))\n",
    "print(\"Frequência de ressonância (f)      --> {0:.5f} Hz\".format(f.real))"
   ]
  },
  {
   "cell_type": "markdown",
   "metadata": {},
   "source": [
    "___"
   ]
  },
  {
   "cell_type": "markdown",
   "metadata": {},
   "source": [
    "<div id=\"3\"></div>\n",
    "\n",
    "# Parte 3 - Construção de gráficos de I1 e I2 em função da frequência:"
   ]
  },
  {
   "cell_type": "markdown",
   "metadata": {},
   "source": [
    "### Descrição\n",
    "\n",
    "Para essa sub-etapa, busca-se plotar os módulos das correntes no primário e no secundário (I1 e I2) para um valor de coeficiente de acoplamento inicialmente fixo (nesse caso, utilizou-se $k = 0.1$) e, em seguida, variá-lo. Essa etapa busca responder a duas perguntas:\n",
    "1) A frequência para a qual as correntes são máximas é coincidente com a frequência de ressonância que vocês obtiveram na atividade 1? <br>\n",
    "2) O que acontece com os gráficos dos módulos das correntes quando se altera o 𝑘 do circuito? "
   ]
  },
  {
   "cell_type": "markdown",
   "metadata": {},
   "source": [
    "### Para um valor de k fixo"
   ]
  },
  {
   "cell_type": "code",
   "execution_count": 39,
   "metadata": {},
   "outputs": [],
   "source": [
    "# Função utilizada para modelar as correntes I1 e I2 com f variante\n",
    "def ListaI1I2(lista_f,k):\n",
    "    \"\"\"\n",
    "    Retorna listas com os valores da corrente no primário e \n",
    "    no secundário a partir de uma variação na frequência\n",
    "\n",
    "    Parâmetros:\n",
    "     - lista_f: lista com valores variantes de f\n",
    "     - k: coeficiente de acoplamento\n",
    "    \"\"\"\n",
    "    I1=[]\n",
    "    I2=[]\n",
    "    for f in lista_f:\n",
    "        M = k*sqrt(L1*L2)\n",
    "        w = 2*pi*f\n",
    "        XL1 = 1j * w * L1\n",
    "        XL2 = 1j * w * L2\n",
    "        XM = 1j * w * M\n",
    "        XC1 = 1/(1j*w*C1)\n",
    "        XC2 = 1/(1j*w*C2)\n",
    "\n",
    "        Z=np.array([[R1+XL1+XC1, -XM],[-XM, XL2+R2+(Rc*XC2)/(Rc+XC2)]])\n",
    "        V=np.array([Uf,0])\n",
    "        I=np.dot(linalg.inv(Z),V)\n",
    "       \n",
    "        I1.append(abs(I[0]))\n",
    "        I2.append(abs(I[1]))\n",
    "\n",
    "    return I1,I2"
   ]
  },
  {
   "cell_type": "code",
   "execution_count": null,
   "metadata": {},
   "outputs": [],
   "source": [
    "lista_f = np.arange(100,60e3,10)\n",
    "k = 0.1\n",
    "\n",
    "plt.figure(figsize=(15,8))\n",
    "I1, I2 = ListaI1I2(lista_f,k)\n",
    "f_maximo = lista_f[I2.index(max(I2))]\n",
    "plt.plot(lista_f,I1,label=\"I1\")\n",
    "plt.plot(lista_f,I2,label=\"I2\")\n",
    "plt.axvline(x=f_maximo, color='black', linestyle='--', label=f'f máximo = {f_maximo.real}Hz')\n",
    "plt.title(\" Corrente em Função da Frequência p/ k=0.1\")\n",
    "plt.xlabel(\" Frequências [Hz]\")\n",
    "plt.ylabel(\" Corrente I1 [A]\")\n",
    "plt.legend()\n",
    "plt.show()"
   ]
  },
  {
   "cell_type": "code",
   "execution_count": null,
   "metadata": {},
   "outputs": [],
   "source": [
    "# Achando a frequência I1 e I2\n",
    "print(f'A corrente máxima atingida é {round(max(I1),2)} A para I1 e {round(max(I2), 2)} A para I2, encontrados sob uma frequência de {f_maximo}Hz')"
   ]
  },
  {
   "cell_type": "markdown",
   "metadata": {},
   "source": [
    "O gráfico acima nos permite concluir que, para um $k=0.1$, o valor de frequência que maximiza as correntes de fato coincide com o valor teórico da frequência de ressonância ($31340 Hz$ e $31099 Hz$, respectivamente), respondendo à pergunta número 1."
   ]
  },
  {
   "cell_type": "markdown",
   "metadata": {},
   "source": [
    "### Para valores de k variáveis"
   ]
  },
  {
   "cell_type": "code",
   "execution_count": null,
   "metadata": {},
   "outputs": [],
   "source": [
    "lista_k = np.arange(0,1,0.1)\n",
    "picosI1=[]\n",
    "\n",
    "plt.figure(figsize=(15,8))\n",
    "for k in lista_k:\n",
    "    I1, I2 = ListaI1I2(lista_f,k)\n",
    "    maximo=max(I1)\n",
    "    picosI1.append(maximo)\n",
    "    plt.plot(lista_f,I1,label=\"k = {0:.1f}\".format(k))\n",
    "    plt.title(\"Corrente I1 em Função da Frequência\")\n",
    "    plt.xlabel(\"Frequências [Hz]\")\n",
    "    plt.ylabel(\"Corrente I1 [A]\")\n",
    "    plt.legend()\n",
    "\n",
    "plt.grid()\n",
    "plt.show()\n",
    "picosI2=[]\n",
    "\n",
    "plt.figure(figsize=(15,8))\n",
    "for k in lista_k:\n",
    "    I1, I2 = ListaI1I2(lista_f,k)\n",
    "    maximo=max(I2)\n",
    "    picosI2.append(maximo)\n",
    "    plt.plot(lista_f,I2,label=\"k = {0:.1f}\".format(k))\n",
    "    plt.title(\" Corrente I2 em Função da Frequência\")\n",
    "    plt.xlabel(\" Frequências [Hz]\")\n",
    "    plt.ylabel(\" Corrente I2 [A]\")\n",
    "    plt.legend()\n",
    "    \n",
    "plt.grid()\n",
    "plt.show() "
   ]
  },
  {
   "cell_type": "markdown",
   "metadata": {},
   "source": [
    "Observa-se que para valores de $k$ pequenos, em torno de 0.1, o valor da corrente é máximo quando a frequência é em torno de $31kH$, coincidindo com a frequência de ressonância calculada. Contudo, conforme o coeficiente de acoplamento (k) cresce, também cresce o valor da frequência que maximiza a corrente."
   ]
  },
  {
   "cell_type": "markdown",
   "metadata": {},
   "source": [
    "### Gráfico de Picos da Corrente Î1"
   ]
  },
  {
   "cell_type": "code",
   "execution_count": null,
   "metadata": {},
   "outputs": [],
   "source": [
    "plt.figure(figsize=(15,8))\n",
    "plt.plot(lista_k,picosI1,\"o\")\n",
    "plt.title(\"Picos da Corrente I1 x k para uma frequência\")\n",
    "plt.xlabel(\"K\")\n",
    "plt.ylabel(\"Corrente I1 [A]\")\n",
    "plt.grid()\n",
    "plt.show()"
   ]
  },
  {
   "cell_type": "markdown",
   "metadata": {},
   "source": [
    "### Gráfico de Picos da Corrente Î2"
   ]
  },
  {
   "cell_type": "code",
   "execution_count": null,
   "metadata": {},
   "outputs": [],
   "source": [
    "plt.figure(figsize=(15,8))\n",
    "plt.plot(lista_k,picosI2,\"o\")\n",
    "plt.title(\"Picos da Corrente I2 x k \")\n",
    "plt.xlabel(\"K\")\n",
    "plt.ylabel(\"Corrente I2 [A]\")\n",
    "plt.grid()\n",
    "plt.show()"
   ]
  },
  {
   "cell_type": "markdown",
   "metadata": {},
   "source": [
    "___\n",
    "<div id=\"4\"></div>\n",
    "\n",
    "## Parte 4 - Construção de gráficos das potências e da eficiência em função da frequência"
   ]
  },
  {
   "cell_type": "markdown",
   "metadata": {},
   "source": [
    "### Descrição\n",
    "\n",
    "Essa parte tem por objetivo a construção de 3 gráficos:\n",
    " - Gráfico 1: Potência real de entrada em função da frequência da fonte <br>\n",
    " - Gráfico 2: Potência real de saída em função da frequência da fonte <br>\n",
    " - Gráfico 3: Eficiência em função da frequência da fonte"
   ]
  },
  {
   "cell_type": "markdown",
   "metadata": {},
   "source": [
    "### 1: Gráfico da Potencia S1 em Funcão da Frequência"
   ]
  },
  {
   "cell_type": "code",
   "execution_count": null,
   "metadata": {},
   "outputs": [],
   "source": [
    "def ListaI1I2S1S2(lista_f,lista_k):\n",
    "    I1=[]\n",
    "    I2=[]\n",
    "    S1=[]\n",
    "    S2=[]\n",
    "    for f in lista_f:\n",
    "        M = lista_k*sqrt(L1*L2)\n",
    "        w = 2*pi*f\n",
    "        XL1 = 1j * w * L1\n",
    "        XL2 = 1j * w * L2\n",
    "        XM = 1j * w * M\n",
    "        XC1 = 1/(1j*w*C1)\n",
    "        XC2 = 1/(1j*w*C2)\n",
    "\n",
    "        Z=np.array([[R1+XL1+XC1, -XM],[-XM, XL2+R2+(Rc*XC2)/(Rc+XC2)]])\n",
    "        V=np.array([Uf,0])\n",
    "        I=np.dot(linalg.inv(Z),V)\n",
    "        \n",
    "        i1,i2=I[0],I[1]\n",
    "        \n",
    "        Zeq=(Rc*XC2)/(Rc+XC2)\n",
    "        \n",
    "        V2 = i2 * Zeq\n",
    "        \n",
    "        IRc = V2/Rc\n",
    "        \n",
    "        S1ef = (Uf * i1.conjugate())/2\n",
    "        S2ef = (V2 * IRc.conjugate())/2\n",
    "\n",
    "        I1.append(abs(i1))\n",
    "        I2.append(abs(i2))\n",
    "        S1.append(S1ef.real)\n",
    "        S2.append(S2ef.real)\n",
    "        \n",
    "    return I1,I2,S1,S2"
   ]
  },
  {
   "cell_type": "code",
   "execution_count": null,
   "metadata": {},
   "outputs": [],
   "source": [
    "plt.figure(figsize=(15,8))\n",
    "picosS1=[]\n",
    "for k in lista_k:\n",
    "    I1, I2, S1ef, S2ef = ListaI1I2S1S2(lista_f,k)\n",
    "    maximo=max(S1ef)\n",
    "    picosS1.append(maximo)\n",
    "    plt.plot(lista_f,S1ef,label=\"k = {0:.1f}\".format(k))\n",
    "    plt.title(\" Potência Eficaz S1 em Função da Frequência\")\n",
    "    plt.xlabel(\" Frequências [Hz]\")\n",
    "    plt.ylabel(\" Potência S1 [W]\")\n",
    "    plt.legend()\n",
    "\n",
    "ax=plt.gca()\n",
    "plt.grid()\n",
    "plt.show() "
   ]
  },
  {
   "cell_type": "code",
   "execution_count": null,
   "metadata": {},
   "outputs": [],
   "source": [
    "plt.figure(figsize=(15,8))\n",
    "plt.plot(lista_k,picosS1,\"o\")\n",
    "plt.title(\"Picos da Potência S1 x k \")\n",
    "plt.xlabel(\"K\")\n",
    "plt.ylabel(\"Potência S1 [W]\")\n",
    "plt.grid()\n",
    "plt.show()"
   ]
  },
  {
   "cell_type": "markdown",
   "metadata": {},
   "source": [
    "### 2: Gráfico da Potencia S2 em Funcão da Frequência"
   ]
  },
  {
   "cell_type": "code",
   "execution_count": null,
   "metadata": {},
   "outputs": [],
   "source": [
    "plt.figure(figsize=(15,8))\n",
    "picosS2=[]\n",
    "for k in lista_k:\n",
    "    I1, I2, S1ef, S2ef = ListaI1I2S1S2(lista_f,k)\n",
    "    maximo=max(S2ef)\n",
    "    picosS2.append(maximo)\n",
    "    plt.plot(lista_f,S2ef,label=\"k = {0:.1f}\".format(k))\n",
    "    plt.title(\" Potência Eficaz S2 em Função da Frequência\")\n",
    "    plt.xlabel(\" Frequências [Hz]\")\n",
    "    plt.ylabel(\" Potência S2 [W]\")\n",
    "    plt.legend()\n",
    "\n",
    "ax=plt.gca()\n",
    "plt.grid()\n",
    "plt.show() "
   ]
  },
  {
   "cell_type": "code",
   "execution_count": null,
   "metadata": {},
   "outputs": [],
   "source": [
    "plt.figure(figsize=(15,8))\n",
    "plt.plot(lista_k,picosS2,\"o\")\n",
    "plt.title(\"Picos da Potência S2 x k \")\n",
    "plt.xlabel(\"K\")\n",
    "plt.ylabel(\"Potência S2 [W]\")\n",
    "plt.grid()\n",
    "plt.show()"
   ]
  },
  {
   "cell_type": "markdown",
   "metadata": {},
   "source": [
    "### 3: Eficiência x Frequência"
   ]
  },
  {
   "cell_type": "code",
   "execution_count": null,
   "metadata": {},
   "outputs": [],
   "source": [
    "plt.figure(figsize=(15,8))\n",
    "\n",
    "for k in lista_k:\n",
    "    I1, I2, S1ef, S2ef = ListaI1I2S1S2(lista_f,k)\n",
    "    rendimento=[]\n",
    "    for i in range(len(S2ef)):\n",
    "        n = S2ef[i]/S1ef[i]\n",
    "        rendimento.append(n)\n",
    "    plt.plot(lista_f,rendimento,label=\"k = {0:.1f}\".format(k))\n",
    "    plt.title(\" Eficiencia x Frequencia\")\n",
    "    plt.xlabel(\" Frequências [Hz]\")\n",
    "    plt.ylabel(\" Eficiencia\")\n",
    "    plt.legend()\n",
    "\n",
    "plt.grid()\n",
    "plt.show() "
   ]
  },
  {
   "cell_type": "markdown",
   "metadata": {},
   "source": [
    "---\n",
    "\n",
    "<div id=\"5\"></div>\n",
    "\n",
    "# Parte 5 - Construção de um gráfico que relacione o valor de pico da tensão no secundário (no resistor 𝑅𝐶) com o coeficiente de acoplamento $k$"
   ]
  },
  {
   "cell_type": "markdown",
   "metadata": {},
   "source": [
    "Para essa atividade, use a frequência de ressonância natural do conjunto 𝐿𝐶, que ficará fixa para diferentes valores de 𝑘. A ideia, com a simulação, é identificar se existe um fator de acoplamento ótimo, com o qual a tensão no secundário é máxima (e, por conseguinte, a potência recebida também será máxima)."
   ]
  },
  {
   "cell_type": "code",
   "execution_count": null,
   "metadata": {},
   "outputs": [],
   "source": [
    "espacos = np.arange(0,1, 0.01)\n",
    "V2 = []\n",
    "plt.figure(figsize=(15,8))\n",
    "for k in espacos:\n",
    "    M = k*sqrt(L1*L2)\n",
    "    XM = 1j * w * M\n",
    "    i1, i2 = CalcularTransformador(Uf, Rc)\n",
    "    zeq=(XC2*Rc)/(XC2+Rc)\n",
    "    v2 = zeq * i2\n",
    "    V2.append(abs(v2))\n",
    "    \n",
    "plt.plot(espacos,V2)\n",
    "plt.title(\"V2 x K para V1 = 5V\")\n",
    "plt.xlabel(\"Valores de K\")\n",
    "plt.ylabel(\"V2 [Volts]\")\n",
    "plt.grid()\n",
    "plt.show()"
   ]
  },
  {
   "cell_type": "code",
   "execution_count": null,
   "metadata": {
    "scrolled": true
   },
   "outputs": [],
   "source": [
    "print(f'O valor máximo encontrado para V2 foi {max(V2)} sob um k = {espacos[V2.index(max(V2))]}')"
   ]
  },
  {
   "cell_type": "markdown",
   "metadata": {},
   "source": [
    "Vemos que existe, sim, um valor de k que maximiza a tensão na carga (e, portanto, sua potência). Quando se utiliza um $k = 0.13$, encontra-se uma tensão máxima de $12.42 V$\n",
    "\n",
    "___"
   ]
  },
  {
   "cell_type": "markdown",
   "metadata": {},
   "source": [
    "<div id=\"conclusao\"></div>\n",
    "\n",
    "# Conclusão e Validação do Modelo"
   ]
  },
  {
   "cell_type": "code",
   "execution_count": null,
   "metadata": {},
   "outputs": [],
   "source": [
    "dist = np.arange(0, 24, 1)\n",
    "volt = [7.1, 7.5,7.9,8.4, 10, 11.4, 12.5, 11.7, 9.5, 8.8, 8,\n",
    "        7.6, 7.2, 6.8, 6.4, 6, 5.6, 5.2, 4.8, 4.4, 4.1, 3.9, 3.86, 3.84]"
   ]
  },
  {
   "cell_type": "code",
   "execution_count": null,
   "metadata": {},
   "outputs": [],
   "source": [
    "plt.figure(figsize=(15,8))\n",
    "plt.plot(dist, volt, 'o')\n",
    "plt.title(\"V2 x Distância de Medição\")\n",
    "plt.xlabel(\"Distância entre as bobinas [cm]\")\n",
    "plt.ylabel(\"V2 [Volts]\")\n",
    "plt.grid()\n",
    "plt.show()"
   ]
  },
  {
   "cell_type": "markdown",
   "metadata": {},
   "source": [
    "Vemos que o formato do gráfico de V2 x Distância de Medição tem um formato semelhante com o de V2 x K - há uma menor tensão menor de princípio, que aumenta logo em seguida, e que volta a descer depois. Esse comportamento está de acordo com o esperado, o que é um indício de que os resultados estão de fato de acordo com o modelo. Mas e os valores, estão parecidos?"
   ]
  },
  {
   "cell_type": "code",
   "execution_count": null,
   "metadata": {},
   "outputs": [],
   "source": [
    "print('Valor máximo de tensão segundo o modelo....:', max(V2), 'V')\n",
    "print('Valor máximo de tensão medido..............:', max(volt),'V')\n",
    "print('Potência máxima esperada................:', ((max(V2)/sqrt(2))**2/330).real, 'W')\n",
    "print('Potência máxima transmitida................:', ((max(volt)/sqrt(2))**2/330).real, 'W')\n",
    "print(f'O valor máximo de modelo é {round((max(V2)/max(volt)-1)*100)}% maior do que o medido')"
   ]
  },
  {
   "cell_type": "markdown",
   "metadata": {},
   "source": [
    "### K x Distância"
   ]
  },
  {
   "cell_type": "code",
   "execution_count": null,
   "metadata": {},
   "outputs": [],
   "source": [
    "k=[0.13,0.07,0.05,0.04,0.03] \n",
    "d=[6,7.5,10,15,20]\n",
    "plt.figure(figsize=(15,8))\n",
    "plt.plot(d,k,\"o\")\n",
    "plt.title(\"K x Distância\")\n",
    "plt.grid()\n",
    "plt.xlabel(\"Distância [cm]\")\n",
    "plt.ylabel(\"Valores de K\")"
   ]
  },
  {
   "cell_type": "markdown",
   "metadata": {},
   "source": [
    "___\n",
    "\n",
    "<div id='fim'> </div>\n",
    "\n",
    "# Aumentando a tensão de alimentação do primário"
   ]
  },
  {
   "cell_type": "markdown",
   "metadata": {},
   "source": [
    "Podemos desacoplar o circuito de alimentação do primário, aumentando a alimentação dos transistores e do cirucito como um todo sem ultrapassar o limite de 5V para o chip. Dessa forma, chegamos a transmitir 36V a partir do gerador de corrente contínua."
   ]
  },
  {
   "cell_type": "code",
   "execution_count": null,
   "metadata": {},
   "outputs": [],
   "source": [
    "Uf = 2/pi*14\n",
    "\n",
    "espacos = np.arange(0,1, 0.01)\n",
    "V2 = []\n",
    "plt.figure(figsize=(15,8))\n",
    "for k in espacos:\n",
    "    M = k*sqrt(L1*L2)\n",
    "    XM = 1j * w * M\n",
    "    i1, i2 = CalcularTransformador(Uf, Rc)\n",
    "    zeq=(XC2*Rc)/(XC2+Rc)\n",
    "    v2 = zeq * i2\n",
    "    V2.append(abs(v2))\n",
    "    \n",
    "plt.plot(espacos,V2)\n",
    "plt.title(\"V2 x K\")\n",
    "plt.xlabel(\"Valores de K\")\n",
    "plt.ylabel(\"V2 [Volts]\")\n",
    "plt.grid()\n",
    "plt.show()\n",
    "\n",
    "print('Tensão máxima esperada.....................:', max(V2), 'V')\n",
    "print('Tensão máxima transmitida..................:', 36.3, 'V')\n",
    "print('Potência máxima esperada................:', ((max(V2)/sqrt(2))**2/330).real, 'W')\n",
    "print('Potência máxima transmitida................:', ((36.3/sqrt(2))**2/330).real, \"W\")"
   ]
  },
  {
   "cell_type": "code",
   "execution_count": null,
   "metadata": {},
   "outputs": [],
   "source": []
  }
 ],
 "metadata": {
  "interpreter": {
   "hash": "35ffa6d000ac0e1b378f1e0ff7abb993d9694bfb34f00dbc4a4e4f244d44a61e"
  },
  "kernelspec": {
   "display_name": "Python 3 (ipykernel)",
   "language": "python",
   "name": "python3"
  },
  "language_info": {
   "codemirror_mode": {
    "name": "ipython",
    "version": 3
   },
   "file_extension": ".py",
   "mimetype": "text/x-python",
   "name": "python",
   "nbconvert_exporter": "python",
   "pygments_lexer": "ipython3",
   "version": "3.9.7"
  }
 },
 "nbformat": 4,
 "nbformat_minor": 4
}
